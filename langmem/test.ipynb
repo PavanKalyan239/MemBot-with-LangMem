{
 "cells": [
  {
   "cell_type": "code",
   "execution_count": 1,
   "metadata": {},
   "outputs": [
    {
     "name": "stdout",
     "output_type": "stream",
     "text": [
      "langgraph==0.3.2\n",
      "langmem==0.0.14\n",
      "sentence-transformers==3.4.1\n",
      "torch==2.6.0\n",
      "numpy==2.2.3\n",
      "openai==1.65.2\n"
     ]
    },
    {
     "name": "stderr",
     "output_type": "stream",
     "text": [
      "C:\\Users\\jkottala\\AppData\\Local\\Temp\\ipykernel_18520\\356668026.py:1: DeprecationWarning: pkg_resources is deprecated as an API. See https://setuptools.pypa.io/en/latest/pkg_resources.html\n",
      "  import pkg_resources\n"
     ]
    }
   ],
   "source": [
    "import pkg_resources\n",
    "\n",
    "packages = [\"langgraph\", \"langmem\", \"sentence-transformers\", \"torch\", \"numpy\", \"openai\"]\n",
    "\n",
    "with open(\"requirements.txt\", \"w\") as f:\n",
    "    for pkg in packages:\n",
    "        try:\n",
    "            version = pkg_resources.get_distribution(pkg).version\n",
    "            line = f\"{pkg}=={version}\\n\"\n",
    "            print(line.strip())  # Print to console\n",
    "            f.write(line)  # Write to file\n",
    "        except pkg_resources.DistributionNotFound:\n",
    "            print(f\"{pkg} is not installed.\")\n"
   ]
  },
  {
   "cell_type": "code",
   "execution_count": 1,
   "metadata": {},
   "outputs": [
    {
     "name": "stderr",
     "output_type": "stream",
     "text": [
      "c:\\Users\\jkottala\\Envs\\langGraph\\Lib\\site-packages\\tqdm\\auto.py:21: TqdmWarning: IProgress not found. Please update jupyter and ipywidgets. See https://ipywidgets.readthedocs.io/en/stable/user_install.html\n",
      "  from .autonotebook import tqdm as notebook_tqdm\n"
     ]
    },
    {
     "name": "stdout",
     "output_type": "stream",
     "text": [
      "Embedding shape: (768,)\n",
      "First few values: [-0.01384925  0.06499632 -0.03022257 -0.03865709  0.02064267]\n"
     ]
    }
   ],
   "source": [
    "from sentence_transformers import SentenceTransformer\n",
    "\n",
    "# Load model (downloads ~420MB first time)\n",
    "model = SentenceTransformer('all-mpnet-base-v2')\n",
    "\n",
    "# Test it\n",
    "text = \"I like Python\"\n",
    "embedding = model.encode(text)\n",
    "print(f\"Embedding shape: {embedding.shape}\")  # Should be (768,)\n",
    "print(f\"First few values: {embedding[:5]}\")"
   ]
  },
  {
   "cell_type": "code",
   "execution_count": 4,
   "metadata": {},
   "outputs": [
    {
     "name": "stderr",
     "output_type": "stream",
     "text": [
      "2025-03-04 13:26:48,156 - INFO - Client ID and Client Secret found [azure_openai_llm.py:54]\n"
     ]
    },
    {
     "name": "stdout",
     "output_type": "stream",
     "text": [
      "Hello! It seems you might be mistaking me for Azure, but I’m here to assist you with any questions or information you need. How can I help you today?\n"
     ]
    }
   ],
   "source": [
    "from azure_openai_llm import get_llm\n",
    "\n",
    "llm = get_llm()\n",
    "\n",
    "res = llm.invoke(input=[{\"role\": \"user\", \"content\": \"Hello, Azure!\"}])\n",
    "\n",
    "print(res.content)"
   ]
  },
  {
   "cell_type": "code",
   "execution_count": null,
   "metadata": {},
   "outputs": [],
   "source": []
  }
 ],
 "metadata": {
  "kernelspec": {
   "display_name": "langGraph",
   "language": "python",
   "name": "python3"
  },
  "language_info": {
   "codemirror_mode": {
    "name": "ipython",
    "version": 3
   },
   "file_extension": ".py",
   "mimetype": "text/x-python",
   "name": "python",
   "nbconvert_exporter": "python",
   "pygments_lexer": "ipython3",
   "version": "3.12.9"
  }
 },
 "nbformat": 4,
 "nbformat_minor": 2
}
